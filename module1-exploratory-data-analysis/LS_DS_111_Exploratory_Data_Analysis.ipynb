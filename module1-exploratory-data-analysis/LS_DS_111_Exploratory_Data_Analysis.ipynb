{
  "nbformat": 4,
  "nbformat_minor": 0,
  "metadata": {
    "colab": {
      "name": "LS_DS_111_Exploratory_Data_Analysis.ipynb",
      "provenance": [],
      "collapsed_sections": [],
      "include_colab_link": true
    },
    "kernelspec": {
      "name": "python3",
      "display_name": "Python 3"
    }
  },
  "cells": [
    {
      "cell_type": "markdown",
      "metadata": {
        "id": "view-in-github",
        "colab_type": "text"
      },
      "source": [
        "<a href=\"https://colab.research.google.com/github/austinlasseter/DS-Unit-1-Sprint-1-Data-Wrangling-and-Storytelling/blob/master/module1-exploratory-data-analysis/LS_DS_111_Exploratory_Data_Analysis.ipynb\" target=\"_parent\"><img src=\"https://colab.research.google.com/assets/colab-badge.svg\" alt=\"Open In Colab\"/></a>"
      ]
    },
    {
      "cell_type": "markdown",
      "metadata": {
        "id": "Ldr0HZ193GKb"
      },
      "source": [
        "Lambda School Data Science\n",
        "\n",
        "*Unit 1, Sprint 1, Module 1*\n",
        "\n",
        "---\n",
        "\n"
      ]
    },
    {
      "cell_type": "markdown",
      "metadata": {
        "id": "2CkckTc6-txA"
      },
      "source": [
        "# Exploratory Data Analysis\n",
        "\n",
        "- Student can submit assignments via GitHub (save work to GitHub).\n",
        "- Student can load a dataset (CSV) from a URL using `pandas.read_csv()`\n",
        "- Student can load a dataset (CSV) from a local file using `pandas.read_csv()`\n",
        "- Student can use basic pandas EDA functions like: `pandas.describe()`, `pandas.isnull()`, `pandas.value_counts()`, `pandas.crosstab()`.\n",
        "- Student can generate basic visualizations with Pandas: line plot, histogram, scatterplot, density plot."
      ]
    },
    {
      "cell_type": "markdown",
      "metadata": {
        "id": "FnOWk3zMOuqz"
      },
      "source": [
        "# [Objective](#save-to-github) - Save a .ipynb file (Colab Notebook) to GitHub\n",
        "\n"
      ]
    },
    {
      "cell_type": "markdown",
      "metadata": {
        "id": "fCryOFLnm_vc"
      },
      "source": [
        "## Overview\n",
        "\n",
        "GitHub is a website where you can save code or other files either for personal use or for sharing with others. The website is used primarily for storing \"open-source\" project files so that users can work together on large code bases without overwriting each other's work. You will be using GitHub to collaborate on large projects, both with other students and in your career. \n",
        "\n",
        "In order to help you get familiar with this tool we have structured our assignment submission process around the typical GitHub workflow to try and mimic how this tool is used. The following process is the workflow that you will follow in order to submit your assignments so that the Team Leads can view your work and give you daily feedback."
      ]
    },
    {
      "cell_type": "markdown",
      "metadata": {
        "id": "OF5FwWe1m-Wo"
      },
      "source": [
        "## Follow Along"
      ]
    },
    {
      "cell_type": "markdown",
      "metadata": {
        "id": "M8moDKv-Tg63"
      },
      "source": [
        "### 1) Fork the Repository for that Sprint at the beginning of the Sprint\n",
        "\n",
        "**NOTE: You will only do this step a single time at the beginning of each sprint.**\n",
        "\n",
        "Go to <http://github.com/lambdaschool>\n",
        "\n",
        "All of our data science curriculum can be accessed through this page.\n",
        "\n",
        "In the search bar start typing:\n",
        "\n",
        "`DS-Unit-1-Sprint-1-Data-Wrangling-and-Storytelling`\n",
        "\n",
        "Repositories that don't match what you are typing in the search bar will be filtered out, eventually leaving this sprint's repository. \n",
        "\n",
        "> \"Repository\" is fancy work that just means: folder where we are going to store some files on GitHub. You'll hear people say \"repo\" for short.\n",
        "\n",
        "**At the beginning of each sprint you will need to find that sprint's corresponding repository and \"fork\" it to your personal GitHub account.** \"Forking\" a repository is GitHub lingo for \"Make a copy.\" If you click the fork button on the top right corner of the webpage, GitHub will make a copy of the folder of files that we will be using for that sprint to your personal GitHub account. You will be doing your work and saving your changes to the copied version on your account.\n",
        "\n",
        "You can tell when you have successfully forked a repository because you should briefly see an animation appear that looks like a book is being photocopied with a fork stuck in it and then you will be redirected to your copy of the repository.\n",
        "\n",
        "You can always tell when you're looking at the forked version on your personal github account by looking at the name of the repository and looking at the username that is just to the left of it in the filepath:\n",
        "\n",
        "![Forked Repository Username Screenshot](https://lambdachops.com/img/fork-repository-screenshot.png)\n"
      ]
    },
    {
      "cell_type": "markdown",
      "metadata": {
        "id": "DHgG8kFqYAz0"
      },
      "source": [
        "### 2) Open one of the files and make a change to it. \n",
        "\n",
        "The files that we will be working with primarily during the course have the file extension: .ipynb for \"IPython Notebook\" any of these are notebooks that we can open in Google Colab.\n",
        "\n",
        "To open one of these notebook files in Google Colab go to:\n",
        "\n",
        "<https://colab.research.google.com/github/> \n",
        "\n",
        "If you haven't done so already, give Google permission to access your GitHub account from your Google Account.\n",
        "\n",
        "Once you have all of the permissions sorted out, select the repository that you're most interested in from the dropdown menu. Once you select a repository Google Colab will look through it to find all of the .ipynb files and will list them below:\n",
        "\n",
        "![Open .ipynb file from GitHub in Google Colab](https://lambdachops.com/img/google-colab-github.png)\n",
        "\n",
        "If you don't like going to this link everyday to open your notebooks, there is also a Google Chrome extension that you can use to easily open any .ipynb file from GitHub directly in Google Colab: \n",
        "\n",
        "### [Google Chrome Extension to Open .ipynb files easily in Google Colab](https://chrome.google.com/webstore/detail/open-in-colab/iogfkhleblhcpcekbiedikdehleodpjo?hl=en)"
      ]
    },
    {
      "cell_type": "markdown",
      "metadata": {
        "id": "OdRobgtWZrex"
      },
      "source": [
        "### 3) Save your changes back to your forked repository on Github.\n",
        "\n",
        "Once you have finished making all of the changes that you want to the notebook, you can save your work back to GitHub by selecting `File` >> `Save a copy in GitHub` from the dropdown menu. \n",
        "\n",
        "When you select this a new tab will open in your browser to show you the saved file on GitHub to let you know that the save has been completed successfully.\n",
        "\n",
        "![Save A Copy In Github](https://lambdachops.com/img/save-a-copy-in-github.png)\n",
        "\n",
        "### You will do steps 2 and 3 of this process every day as you work on your assignment work, however, you will only do steps 1 and 4 at the beginning of a sprint."
      ]
    },
    {
      "cell_type": "markdown",
      "metadata": {
        "id": "z_EX6QN9babi"
      },
      "source": [
        "### 4) Submit a \"Pull Request\" of your work.\n",
        "\n",
        "The final step in submitting your work is to open a \"Pull Request\" GitHub won't allow you to complete this step until you have saved some changes to your version of the repository on GitHub.\n",
        "\n",
        "Opening a Pull Request is something that only needs to be done once per week (typically at the beginning of the week). This pull request is what ties your work back to the original Lambda School repository and makes it easy for the Team Leads to find your work.\n",
        "\n",
        "In order to open a pull request, navigate to your repository on GitHub and select the \"Pull Requests\" tab at the top of the page.\n",
        "\n",
        "![Pull Requests Tab](https://lambdachops.com/img/pull-request.png)\n",
        "\n",
        "To open a new pull request you will need to click the green \"New Pull Request\" button and give your pull request a title. Please include your name and Cohort number i.e. DS8, DS9, or DS10, etc. at the beginning of the pull request title so that the Team Leads can easily identify your Pull Request. Once you have filled out the title, just click the remaining large green buttons until the pull request has been submitted.\n"
      ]
    },
    {
      "cell_type": "markdown",
      "metadata": {
        "id": "v1KNmIgQdbOo"
      },
      "source": [
        "### In Summary\n",
        "\n",
        "1) Fork the Repository (make a copy to your personal account)\n",
        "\n",
        "2) Open the Repository in Google Colab and make changes to the files (work on your assignment).\n",
        "\n",
        "3) Save the changes back to github using the dropdown menu.\n",
        "\n",
        "4) Make sure that sometime before the end of the first day of the sprint that you have submitted a Pull Request so that the TLs can find your work."
      ]
    },
    {
      "cell_type": "markdown",
      "metadata": {
        "id": "-s3sC4gwrFGN"
      },
      "source": [
        "## Challenge\n",
        "\n",
        "You'll have to do follow this process or one very close to it every day/week for the next nine months. If this feels a little bit overwhelming at first, don't worry about it! We will be doing this everyday and you have your Team Leads and classmates to lean on for help. You'll be a pro at using GitHub in no time.\n",
        "\n",
        "If you're already familiar with GitHub and or Git via the command line, feel free to use the tools that you are most comfortable with, but you still need to save your work to GitHub every day."
      ]
    },
    {
      "cell_type": "markdown",
      "metadata": {
        "id": "QszuYn1bnZSe"
      },
      "source": [
        "# [Objective](#load-csv-from-url) - Load a dataset (CSV) via its URL"
      ]
    },
    {
      "cell_type": "markdown",
      "metadata": {
        "id": "_7uhS1HHOaR-"
      },
      "source": [
        "## Overview\n",
        "\n",
        "In order to practice Loading Datasets into Google Colab, we're going to use the [Flags Dataset](https://archive.ics.uci.edu/ml/datasets/Flags) from UCI to show both loading the dataset via its URL and from a local file.\n",
        "\n",
        "Steps for loading a dataset:\n",
        "\n",
        "1) Learn as much as you can about the dataset:\n",
        " - Number of rows\n",
        " - Number of columns\n",
        " - Column headers (Is there a \"data dictionary\"?)\n",
        " - Is there missing data?\n",
        " - **OPEN THE RAW FILE AND LOOK AT IT. IT MAY NOT BE FORMATTED IN THE WAY THAT YOU EXPECT.**\n",
        "\n",
        "2) Try loading the dataset using `pandas.read_csv()` and if things aren't acting the way that you expect, investigate until you can get it loading correctly.\n",
        "\n",
        "3) Keep in mind that functions like `pandas.read_csv()` have a lot of optional parameters that might help us change the way that data is read in. If you get stuck, google, read the documentation, and try things out.\n",
        "\n",
        "4) You might need to type out column headers by hand if they are not provided in a neat format in the original dataset. It can be a drag."
      ]
    },
    {
      "cell_type": "markdown",
      "metadata": {
        "id": "8vpS8MBjm7A0"
      },
      "source": [
        "## Follow Along"
      ]
    },
    {
      "cell_type": "markdown",
      "metadata": {
        "id": "vZobh57ag1S9"
      },
      "source": [
        "### Learn about the dataset and look at the raw file."
      ]
    },
    {
      "cell_type": "code",
      "metadata": {
        "id": "sYypbXovgaSi"
      },
      "source": [
        "# Find the actual file to download\n",
        "# From navigating the page, clicking \"Data Folder\"\n",
        "# Right click on the link to the dataset and say \"Copy Link Address\"\n",
        "\n",
        "flag_data_url = 'https://archive.ics.uci.edu/ml/machine-learning-databases/flags/flag.data'\n",
        "\n",
        "# You can \"shell out\" in a notebook for more powerful tools\n",
        "# https://jakevdp.github.io/PythonDataScienceHandbook/01.05-ipython-and-shell-commands.html\n",
        "\n",
        "# Funny extension, but on inspection looks like a csv\n",
        "!curl https://archive.ics.uci.edu/ml/machine-learning-databases/flags/flag.data\n",
        "\n",
        "# Extensions are just a norm! You have to inspect to be sure what something is"
      ],
      "execution_count": null,
      "outputs": []
    },
    {
      "cell_type": "markdown",
      "metadata": {
        "id": "KncohxMIg5Dq"
      },
      "source": [
        "### Attempt to load it via its URL"
      ]
    },
    {
      "cell_type": "code",
      "metadata": {
        "id": "-r24OTvggWub"
      },
      "source": [
        "# Load the flags dataset from its URL:\n"
      ],
      "execution_count": null,
      "outputs": []
    },
    {
      "cell_type": "markdown",
      "metadata": {
        "id": "1hI3GvRgg818"
      },
      "source": [
        "### If things go wrong, investigate and try to figure out why.\n"
      ]
    },
    {
      "cell_type": "code",
      "metadata": {
        "id": "8PK-Njl0hJxz"
      },
      "source": [
        "# Different ways to look at the documentation:\n"
      ],
      "execution_count": null,
      "outputs": []
    },
    {
      "cell_type": "markdown",
      "metadata": {
        "id": "xuX3bUdOhQ1S"
      },
      "source": [
        "### Try Again"
      ]
    },
    {
      "cell_type": "code",
      "metadata": {
        "id": "AJfCoAg-hRzq"
      },
      "source": [
        "# Keep on trying things until you get it. \n",
        "# If you really mess things up you can always just restart your runtime\n",
        "column_headers = ['name', 'landmass', 'zone', 'area', 'population', 'language', 'religion', 'bars', 'stripes', 'colors', 'red', 'green',\n",
        "                  'blue', 'gold', 'white', 'black', 'orange', 'mainhue', 'circles', 'crosses', 'saltires', 'quarters', 'sunstars', 'crescent',\n",
        "                  'triangle', 'icon', 'animate', 'text', 'topleft', 'botright']"
      ],
      "execution_count": null,
      "outputs": []
    },
    {
      "cell_type": "markdown",
      "metadata": {
        "id": "-KRODapErmeM"
      },
      "source": [
        "## Challenge\n",
        "\n",
        "You'll get very good at reading documentation, Googling, asking for help, troubleshooting, debugging, etc. by the time you're done here at Lambda School. Our goal is to turn you into a data scientist that can solve their own problems. "
      ]
    },
    {
      "cell_type": "markdown",
      "metadata": {
        "id": "Hi71j4Y-Oj1q"
      },
      "source": [
        "# [Objective](#load-csv-from-file) - Load a dataset (CSV) from a local file"
      ]
    },
    {
      "cell_type": "markdown",
      "metadata": {
        "id": "a2FqWlMhloY3"
      },
      "source": [
        "## Overview\n",
        "\n",
        "We won't always have CSVs hosted on the interwebs for us. We need to be able to upload files from our local machines as well. With Google Colab this is trickier than it is with other software (like Jupyter Notebooks for example. Because the main file system backing Google Colab is Google Drive, we can't use a filepath to the file on our computers in order to access our data. We have to upload our files to Google Colab before we can start working with them."
      ]
    },
    {
      "cell_type": "markdown",
      "metadata": {
        "id": "jpm_rVwHlnOt"
      },
      "source": [
        "## Follow Along"
      ]
    },
    {
      "cell_type": "markdown",
      "metadata": {
        "id": "9ocDcrXWhceM"
      },
      "source": [
        "### Method 1: Google Colab File Upload Package\n",
        "- What should we google to try and figure this out?"
      ]
    },
    {
      "cell_type": "code",
      "metadata": {
        "id": "_HQlN7vIhtZe"
      },
      "source": [
        ""
      ],
      "execution_count": null,
      "outputs": []
    },
    {
      "cell_type": "markdown",
      "metadata": {
        "id": "sqmNtickhoP_"
      },
      "source": [
        "### Method 2: Use the GUI (Graphical User Interface)"
      ]
    },
    {
      "cell_type": "code",
      "metadata": {
        "id": "SliGiU1zhbea"
      },
      "source": [
        ""
      ],
      "execution_count": null,
      "outputs": []
    },
    {
      "cell_type": "markdown",
      "metadata": {
        "id": "A-jXtl0Er8EM"
      },
      "source": [
        "## Challenge\n",
        "\n",
        "On the assignment this afternoon you'll get to choose a new dataset and try both of these methods, we will load hundreds of datasets into notebooks by the time the class is over, you'll be pro at it in no time."
      ]
    },
    {
      "cell_type": "markdown",
      "metadata": {
        "id": "5iFyoAdDOoqu"
      },
      "source": [
        "# [Objective](#basic-pandas-functions) - Use basic Pandas functions for Exploratory Data Analysis (EDA)"
      ]
    },
    {
      "cell_type": "markdown",
      "metadata": {
        "id": "k9DobU7dqILL"
      },
      "source": [
        "## Overview\n",
        "\n",
        "> Exploratory Data Analysis (EDA) refers to the critical process of performing initial investigations on data so as to discover patterns, to spot anomalies, to test hypotheses and to check assumptions with the help of summary statistics and graphical representations\n",
        "\n",
        "Exploratory Data Analysis is often the first thing that we'll do when starting out with a new dataset. How we treat our data, the models we choose, the approach we take to analyzing our data and in large part the entirety of our data science methodology and next steps are driven by the discoveries that we make during this stage of the process. "
      ]
    },
    {
      "cell_type": "markdown",
      "metadata": {
        "id": "iRBUyBOWog7X"
      },
      "source": [
        "## Follow Along\n",
        "\n",
        "What can we discover about this dataset?\n",
        "\n",
        "- df.shape\n",
        "- df.head()\n",
        "- df.dtypes\n",
        "- df.describe()\n",
        " - Numeric\n",
        " - Non-Numeric\n",
        "- df['column'].value_counts()\n",
        "- df.isnull().sum()\n",
        "- df.fillna()\n",
        "- df.dropna()\n",
        "- df.drop()\n",
        "- pd.crosstab()"
      ]
    },
    {
      "cell_type": "code",
      "metadata": {
        "id": "cGU_UjFKpGsE"
      },
      "source": [
        "# Lets try reading in a new dataset: The Adult Dataset\n",
        "# https://archive.ics.uci.edu/ml/datasets/adult"
      ],
      "execution_count": null,
      "outputs": []
    },
    {
      "cell_type": "code",
      "metadata": {
        "id": "EXNwWczhYCPi"
      },
      "source": [
        "import pandas as pd"
      ],
      "execution_count": null,
      "outputs": []
    },
    {
      "cell_type": "code",
      "metadata": {
        "id": "1krc6cQwYSeo"
      },
      "source": [
        "url = 'https://archive.ics.uci.edu/ml/machine-learning-databases/adult/adult.data'"
      ],
      "execution_count": null,
      "outputs": []
    },
    {
      "cell_type": "code",
      "metadata": {
        "id": "zahnNsw2YGc6",
        "colab": {
          "base_uri": "https://localhost:8080/",
          "height": 319
        },
        "outputId": "c0d5558d-693f-4400-f495-53a5f0e97d80"
      },
      "source": [
        "workers = pd.read_csv(url, names=column_headers2)\n",
        "workers.head()"
      ],
      "execution_count": null,
      "outputs": [
        {
          "output_type": "execute_result",
          "data": {
            "text/html": [
              "<div>\n",
              "<style scoped>\n",
              "    .dataframe tbody tr th:only-of-type {\n",
              "        vertical-align: middle;\n",
              "    }\n",
              "\n",
              "    .dataframe tbody tr th {\n",
              "        vertical-align: top;\n",
              "    }\n",
              "\n",
              "    .dataframe thead th {\n",
              "        text-align: right;\n",
              "    }\n",
              "</style>\n",
              "<table border=\"1\" class=\"dataframe\">\n",
              "  <thead>\n",
              "    <tr style=\"text-align: right;\">\n",
              "      <th></th>\n",
              "      <th>age</th>\n",
              "      <th>workclass</th>\n",
              "      <th>fnlwgt</th>\n",
              "      <th>education</th>\n",
              "      <th>education-num</th>\n",
              "      <th>marital-status</th>\n",
              "      <th>occupation</th>\n",
              "      <th>relationship</th>\n",
              "      <th>race</th>\n",
              "      <th>sex</th>\n",
              "      <th>capital-gain</th>\n",
              "      <th>capital-loss</th>\n",
              "      <th>hours-per-week</th>\n",
              "      <th>native-country</th>\n",
              "      <th>income</th>\n",
              "    </tr>\n",
              "  </thead>\n",
              "  <tbody>\n",
              "    <tr>\n",
              "      <th>0</th>\n",
              "      <td>39</td>\n",
              "      <td>State-gov</td>\n",
              "      <td>77516</td>\n",
              "      <td>Bachelors</td>\n",
              "      <td>13</td>\n",
              "      <td>Never-married</td>\n",
              "      <td>Adm-clerical</td>\n",
              "      <td>Not-in-family</td>\n",
              "      <td>White</td>\n",
              "      <td>Male</td>\n",
              "      <td>2174</td>\n",
              "      <td>0</td>\n",
              "      <td>40</td>\n",
              "      <td>United-States</td>\n",
              "      <td>&lt;=50K</td>\n",
              "    </tr>\n",
              "    <tr>\n",
              "      <th>1</th>\n",
              "      <td>50</td>\n",
              "      <td>Self-emp-not-inc</td>\n",
              "      <td>83311</td>\n",
              "      <td>Bachelors</td>\n",
              "      <td>13</td>\n",
              "      <td>Married-civ-spouse</td>\n",
              "      <td>Exec-managerial</td>\n",
              "      <td>Husband</td>\n",
              "      <td>White</td>\n",
              "      <td>Male</td>\n",
              "      <td>0</td>\n",
              "      <td>0</td>\n",
              "      <td>13</td>\n",
              "      <td>United-States</td>\n",
              "      <td>&lt;=50K</td>\n",
              "    </tr>\n",
              "    <tr>\n",
              "      <th>2</th>\n",
              "      <td>38</td>\n",
              "      <td>Private</td>\n",
              "      <td>215646</td>\n",
              "      <td>HS-grad</td>\n",
              "      <td>9</td>\n",
              "      <td>Divorced</td>\n",
              "      <td>Handlers-cleaners</td>\n",
              "      <td>Not-in-family</td>\n",
              "      <td>White</td>\n",
              "      <td>Male</td>\n",
              "      <td>0</td>\n",
              "      <td>0</td>\n",
              "      <td>40</td>\n",
              "      <td>United-States</td>\n",
              "      <td>&lt;=50K</td>\n",
              "    </tr>\n",
              "    <tr>\n",
              "      <th>3</th>\n",
              "      <td>53</td>\n",
              "      <td>Private</td>\n",
              "      <td>234721</td>\n",
              "      <td>11th</td>\n",
              "      <td>7</td>\n",
              "      <td>Married-civ-spouse</td>\n",
              "      <td>Handlers-cleaners</td>\n",
              "      <td>Husband</td>\n",
              "      <td>Black</td>\n",
              "      <td>Male</td>\n",
              "      <td>0</td>\n",
              "      <td>0</td>\n",
              "      <td>40</td>\n",
              "      <td>United-States</td>\n",
              "      <td>&lt;=50K</td>\n",
              "    </tr>\n",
              "    <tr>\n",
              "      <th>4</th>\n",
              "      <td>28</td>\n",
              "      <td>Private</td>\n",
              "      <td>338409</td>\n",
              "      <td>Bachelors</td>\n",
              "      <td>13</td>\n",
              "      <td>Married-civ-spouse</td>\n",
              "      <td>Prof-specialty</td>\n",
              "      <td>Wife</td>\n",
              "      <td>Black</td>\n",
              "      <td>Female</td>\n",
              "      <td>0</td>\n",
              "      <td>0</td>\n",
              "      <td>40</td>\n",
              "      <td>Cuba</td>\n",
              "      <td>&lt;=50K</td>\n",
              "    </tr>\n",
              "  </tbody>\n",
              "</table>\n",
              "</div>"
            ],
            "text/plain": [
              "   age          workclass  fnlwgt  ... hours-per-week  native-country  income\n",
              "0   39          State-gov   77516  ...             40   United-States   <=50K\n",
              "1   50   Self-emp-not-inc   83311  ...             13   United-States   <=50K\n",
              "2   38            Private  215646  ...             40   United-States   <=50K\n",
              "3   53            Private  234721  ...             40   United-States   <=50K\n",
              "4   28            Private  338409  ...             40            Cuba   <=50K\n",
              "\n",
              "[5 rows x 15 columns]"
            ]
          },
          "metadata": {
            "tags": []
          },
          "execution_count": 5
        }
      ]
    },
    {
      "cell_type": "code",
      "metadata": {
        "id": "LDqmPHw1YGlB"
      },
      "source": [
        "column_headers2=['age', 'workclass', 'fnlwgt', 'education', 'education-num', 'marital-status', 'occupation', 'relationship',\n",
        "                 'race', 'sex', 'capital-gain', 'capital-loss', 'hours-per-week', 'native-country', 'income']"
      ],
      "execution_count": null,
      "outputs": []
    },
    {
      "cell_type": "code",
      "metadata": {
        "id": "jGBHoTmBYGpt",
        "colab": {
          "base_uri": "https://localhost:8080/",
          "height": 35
        },
        "outputId": "78adfe5d-fa6b-483e-d89b-1e23f8089616"
      },
      "source": [
        "#shape\n",
        "workers.shape"
      ],
      "execution_count": null,
      "outputs": [
        {
          "output_type": "execute_result",
          "data": {
            "text/plain": [
              "(32561, 15)"
            ]
          },
          "metadata": {
            "tags": []
          },
          "execution_count": 6
        }
      ]
    },
    {
      "cell_type": "code",
      "metadata": {
        "id": "cVP_UTJ2YG01",
        "colab": {
          "base_uri": "https://localhost:8080/",
          "height": 104
        },
        "outputId": "6780c3f6-d0b7-46d5-c569-72e6a5e2869a"
      },
      "source": [
        "# what columns?\n",
        "workers.columns"
      ],
      "execution_count": null,
      "outputs": [
        {
          "output_type": "execute_result",
          "data": {
            "text/plain": [
              "Index(['age', 'workclass', 'fnlwgt', 'education', 'education-num',\n",
              "       'marital-status', 'occupation', 'relationship', 'race', 'sex',\n",
              "       'capital-gain', 'capital-loss', 'hours-per-week', 'native-country',\n",
              "       'income'],\n",
              "      dtype='object')"
            ]
          },
          "metadata": {
            "tags": []
          },
          "execution_count": 7
        }
      ]
    },
    {
      "cell_type": "code",
      "metadata": {
        "id": "0adm6sKOYG5G",
        "colab": {
          "base_uri": "https://localhost:8080/",
          "height": 294
        },
        "outputId": "b52f1cdc-5772-4016-a36a-36a6f1d3d967"
      },
      "source": [
        "# data types\n",
        "workers.dtypes"
      ],
      "execution_count": null,
      "outputs": [
        {
          "output_type": "execute_result",
          "data": {
            "text/plain": [
              "age                int64\n",
              "workclass         object\n",
              "fnlwgt             int64\n",
              "education         object\n",
              "education-num      int64\n",
              "marital-status    object\n",
              "occupation        object\n",
              "relationship      object\n",
              "race              object\n",
              "sex               object\n",
              "capital-gain       int64\n",
              "capital-loss       int64\n",
              "hours-per-week     int64\n",
              "native-country    object\n",
              "income            object\n",
              "dtype: object"
            ]
          },
          "metadata": {
            "tags": []
          },
          "execution_count": 8
        }
      ]
    },
    {
      "cell_type": "code",
      "metadata": {
        "id": "mrbgdZ6JYGxi",
        "colab": {
          "base_uri": "https://localhost:8080/",
          "height": 288
        },
        "outputId": "9947dd0e-4dff-449a-b0de-2e4caa058154"
      },
      "source": [
        "# summary stats\n",
        "workers.describe()"
      ],
      "execution_count": null,
      "outputs": [
        {
          "output_type": "execute_result",
          "data": {
            "text/html": [
              "<div>\n",
              "<style scoped>\n",
              "    .dataframe tbody tr th:only-of-type {\n",
              "        vertical-align: middle;\n",
              "    }\n",
              "\n",
              "    .dataframe tbody tr th {\n",
              "        vertical-align: top;\n",
              "    }\n",
              "\n",
              "    .dataframe thead th {\n",
              "        text-align: right;\n",
              "    }\n",
              "</style>\n",
              "<table border=\"1\" class=\"dataframe\">\n",
              "  <thead>\n",
              "    <tr style=\"text-align: right;\">\n",
              "      <th></th>\n",
              "      <th>age</th>\n",
              "      <th>fnlwgt</th>\n",
              "      <th>education-num</th>\n",
              "      <th>capital-gain</th>\n",
              "      <th>capital-loss</th>\n",
              "      <th>hours-per-week</th>\n",
              "    </tr>\n",
              "  </thead>\n",
              "  <tbody>\n",
              "    <tr>\n",
              "      <th>count</th>\n",
              "      <td>32561.000000</td>\n",
              "      <td>3.256100e+04</td>\n",
              "      <td>32561.000000</td>\n",
              "      <td>32561.000000</td>\n",
              "      <td>32561.000000</td>\n",
              "      <td>32561.000000</td>\n",
              "    </tr>\n",
              "    <tr>\n",
              "      <th>mean</th>\n",
              "      <td>38.581647</td>\n",
              "      <td>1.897784e+05</td>\n",
              "      <td>10.080679</td>\n",
              "      <td>1077.648844</td>\n",
              "      <td>87.303830</td>\n",
              "      <td>40.437456</td>\n",
              "    </tr>\n",
              "    <tr>\n",
              "      <th>std</th>\n",
              "      <td>13.640433</td>\n",
              "      <td>1.055500e+05</td>\n",
              "      <td>2.572720</td>\n",
              "      <td>7385.292085</td>\n",
              "      <td>402.960219</td>\n",
              "      <td>12.347429</td>\n",
              "    </tr>\n",
              "    <tr>\n",
              "      <th>min</th>\n",
              "      <td>17.000000</td>\n",
              "      <td>1.228500e+04</td>\n",
              "      <td>1.000000</td>\n",
              "      <td>0.000000</td>\n",
              "      <td>0.000000</td>\n",
              "      <td>1.000000</td>\n",
              "    </tr>\n",
              "    <tr>\n",
              "      <th>25%</th>\n",
              "      <td>28.000000</td>\n",
              "      <td>1.178270e+05</td>\n",
              "      <td>9.000000</td>\n",
              "      <td>0.000000</td>\n",
              "      <td>0.000000</td>\n",
              "      <td>40.000000</td>\n",
              "    </tr>\n",
              "    <tr>\n",
              "      <th>50%</th>\n",
              "      <td>37.000000</td>\n",
              "      <td>1.783560e+05</td>\n",
              "      <td>10.000000</td>\n",
              "      <td>0.000000</td>\n",
              "      <td>0.000000</td>\n",
              "      <td>40.000000</td>\n",
              "    </tr>\n",
              "    <tr>\n",
              "      <th>75%</th>\n",
              "      <td>48.000000</td>\n",
              "      <td>2.370510e+05</td>\n",
              "      <td>12.000000</td>\n",
              "      <td>0.000000</td>\n",
              "      <td>0.000000</td>\n",
              "      <td>45.000000</td>\n",
              "    </tr>\n",
              "    <tr>\n",
              "      <th>max</th>\n",
              "      <td>90.000000</td>\n",
              "      <td>1.484705e+06</td>\n",
              "      <td>16.000000</td>\n",
              "      <td>99999.000000</td>\n",
              "      <td>4356.000000</td>\n",
              "      <td>99.000000</td>\n",
              "    </tr>\n",
              "  </tbody>\n",
              "</table>\n",
              "</div>"
            ],
            "text/plain": [
              "                age        fnlwgt  ...  capital-loss  hours-per-week\n",
              "count  32561.000000  3.256100e+04  ...  32561.000000    32561.000000\n",
              "mean      38.581647  1.897784e+05  ...     87.303830       40.437456\n",
              "std       13.640433  1.055500e+05  ...    402.960219       12.347429\n",
              "min       17.000000  1.228500e+04  ...      0.000000        1.000000\n",
              "25%       28.000000  1.178270e+05  ...      0.000000       40.000000\n",
              "50%       37.000000  1.783560e+05  ...      0.000000       40.000000\n",
              "75%       48.000000  2.370510e+05  ...      0.000000       45.000000\n",
              "max       90.000000  1.484705e+06  ...   4356.000000       99.000000\n",
              "\n",
              "[8 rows x 6 columns]"
            ]
          },
          "metadata": {
            "tags": []
          },
          "execution_count": 9
        }
      ]
    },
    {
      "cell_type": "code",
      "metadata": {
        "id": "4V214zDkZPGy",
        "colab": {
          "base_uri": "https://localhost:8080/",
          "height": 319
        },
        "outputId": "b587895d-643e-48bd-a227-a9f79cba7e87"
      },
      "source": [
        "# compare to the whole dataframe\n",
        "workers.head()"
      ],
      "execution_count": null,
      "outputs": [
        {
          "output_type": "execute_result",
          "data": {
            "text/html": [
              "<div>\n",
              "<style scoped>\n",
              "    .dataframe tbody tr th:only-of-type {\n",
              "        vertical-align: middle;\n",
              "    }\n",
              "\n",
              "    .dataframe tbody tr th {\n",
              "        vertical-align: top;\n",
              "    }\n",
              "\n",
              "    .dataframe thead th {\n",
              "        text-align: right;\n",
              "    }\n",
              "</style>\n",
              "<table border=\"1\" class=\"dataframe\">\n",
              "  <thead>\n",
              "    <tr style=\"text-align: right;\">\n",
              "      <th></th>\n",
              "      <th>age</th>\n",
              "      <th>workclass</th>\n",
              "      <th>fnlwgt</th>\n",
              "      <th>education</th>\n",
              "      <th>education-num</th>\n",
              "      <th>marital-status</th>\n",
              "      <th>occupation</th>\n",
              "      <th>relationship</th>\n",
              "      <th>race</th>\n",
              "      <th>sex</th>\n",
              "      <th>capital-gain</th>\n",
              "      <th>capital-loss</th>\n",
              "      <th>hours-per-week</th>\n",
              "      <th>native-country</th>\n",
              "      <th>income</th>\n",
              "    </tr>\n",
              "  </thead>\n",
              "  <tbody>\n",
              "    <tr>\n",
              "      <th>0</th>\n",
              "      <td>39</td>\n",
              "      <td>State-gov</td>\n",
              "      <td>77516</td>\n",
              "      <td>Bachelors</td>\n",
              "      <td>13</td>\n",
              "      <td>Never-married</td>\n",
              "      <td>Adm-clerical</td>\n",
              "      <td>Not-in-family</td>\n",
              "      <td>White</td>\n",
              "      <td>Male</td>\n",
              "      <td>2174</td>\n",
              "      <td>0</td>\n",
              "      <td>40</td>\n",
              "      <td>United-States</td>\n",
              "      <td>&lt;=50K</td>\n",
              "    </tr>\n",
              "    <tr>\n",
              "      <th>1</th>\n",
              "      <td>50</td>\n",
              "      <td>Self-emp-not-inc</td>\n",
              "      <td>83311</td>\n",
              "      <td>Bachelors</td>\n",
              "      <td>13</td>\n",
              "      <td>Married-civ-spouse</td>\n",
              "      <td>Exec-managerial</td>\n",
              "      <td>Husband</td>\n",
              "      <td>White</td>\n",
              "      <td>Male</td>\n",
              "      <td>0</td>\n",
              "      <td>0</td>\n",
              "      <td>13</td>\n",
              "      <td>United-States</td>\n",
              "      <td>&lt;=50K</td>\n",
              "    </tr>\n",
              "    <tr>\n",
              "      <th>2</th>\n",
              "      <td>38</td>\n",
              "      <td>Private</td>\n",
              "      <td>215646</td>\n",
              "      <td>HS-grad</td>\n",
              "      <td>9</td>\n",
              "      <td>Divorced</td>\n",
              "      <td>Handlers-cleaners</td>\n",
              "      <td>Not-in-family</td>\n",
              "      <td>White</td>\n",
              "      <td>Male</td>\n",
              "      <td>0</td>\n",
              "      <td>0</td>\n",
              "      <td>40</td>\n",
              "      <td>United-States</td>\n",
              "      <td>&lt;=50K</td>\n",
              "    </tr>\n",
              "    <tr>\n",
              "      <th>3</th>\n",
              "      <td>53</td>\n",
              "      <td>Private</td>\n",
              "      <td>234721</td>\n",
              "      <td>11th</td>\n",
              "      <td>7</td>\n",
              "      <td>Married-civ-spouse</td>\n",
              "      <td>Handlers-cleaners</td>\n",
              "      <td>Husband</td>\n",
              "      <td>Black</td>\n",
              "      <td>Male</td>\n",
              "      <td>0</td>\n",
              "      <td>0</td>\n",
              "      <td>40</td>\n",
              "      <td>United-States</td>\n",
              "      <td>&lt;=50K</td>\n",
              "    </tr>\n",
              "    <tr>\n",
              "      <th>4</th>\n",
              "      <td>28</td>\n",
              "      <td>Private</td>\n",
              "      <td>338409</td>\n",
              "      <td>Bachelors</td>\n",
              "      <td>13</td>\n",
              "      <td>Married-civ-spouse</td>\n",
              "      <td>Prof-specialty</td>\n",
              "      <td>Wife</td>\n",
              "      <td>Black</td>\n",
              "      <td>Female</td>\n",
              "      <td>0</td>\n",
              "      <td>0</td>\n",
              "      <td>40</td>\n",
              "      <td>Cuba</td>\n",
              "      <td>&lt;=50K</td>\n",
              "    </tr>\n",
              "  </tbody>\n",
              "</table>\n",
              "</div>"
            ],
            "text/plain": [
              "   age          workclass  fnlwgt  ... hours-per-week  native-country  income\n",
              "0   39          State-gov   77516  ...             40   United-States   <=50K\n",
              "1   50   Self-emp-not-inc   83311  ...             13   United-States   <=50K\n",
              "2   38            Private  215646  ...             40   United-States   <=50K\n",
              "3   53            Private  234721  ...             40   United-States   <=50K\n",
              "4   28            Private  338409  ...             40            Cuba   <=50K\n",
              "\n",
              "[5 rows x 15 columns]"
            ]
          },
          "metadata": {
            "tags": []
          },
          "execution_count": 11
        }
      ]
    },
    {
      "cell_type": "code",
      "metadata": {
        "id": "nrMk-6n3YGus",
        "colab": {
          "base_uri": "https://localhost:8080/",
          "height": 198
        },
        "outputId": "01824d1c-a4d7-4235-8421-1d26ee06054d"
      },
      "source": [
        "# filter to specific columns\n",
        "workers['age'].head()\n",
        "workers[['age']].head()"
      ],
      "execution_count": null,
      "outputs": [
        {
          "output_type": "execute_result",
          "data": {
            "text/html": [
              "<div>\n",
              "<style scoped>\n",
              "    .dataframe tbody tr th:only-of-type {\n",
              "        vertical-align: middle;\n",
              "    }\n",
              "\n",
              "    .dataframe tbody tr th {\n",
              "        vertical-align: top;\n",
              "    }\n",
              "\n",
              "    .dataframe thead th {\n",
              "        text-align: right;\n",
              "    }\n",
              "</style>\n",
              "<table border=\"1\" class=\"dataframe\">\n",
              "  <thead>\n",
              "    <tr style=\"text-align: right;\">\n",
              "      <th></th>\n",
              "      <th>age</th>\n",
              "    </tr>\n",
              "  </thead>\n",
              "  <tbody>\n",
              "    <tr>\n",
              "      <th>0</th>\n",
              "      <td>39</td>\n",
              "    </tr>\n",
              "    <tr>\n",
              "      <th>1</th>\n",
              "      <td>50</td>\n",
              "    </tr>\n",
              "    <tr>\n",
              "      <th>2</th>\n",
              "      <td>38</td>\n",
              "    </tr>\n",
              "    <tr>\n",
              "      <th>3</th>\n",
              "      <td>53</td>\n",
              "    </tr>\n",
              "    <tr>\n",
              "      <th>4</th>\n",
              "      <td>28</td>\n",
              "    </tr>\n",
              "  </tbody>\n",
              "</table>\n",
              "</div>"
            ],
            "text/plain": [
              "   age\n",
              "0   39\n",
              "1   50\n",
              "2   38\n",
              "3   53\n",
              "4   28"
            ]
          },
          "metadata": {
            "tags": []
          },
          "execution_count": 12
        }
      ]
    },
    {
      "cell_type": "code",
      "metadata": {
        "id": "QXAJYiQ5ZITV",
        "colab": {
          "base_uri": "https://localhost:8080/",
          "height": 198
        },
        "outputId": "3c64ea32-e77e-4094-c19d-bf92e7e007a4"
      },
      "source": [
        "# filter to multiple columns\n",
        "workers['ag[e', 'race', 'sex', 'income']].head()"
      ],
      "execution_count": null,
      "outputs": [
        {
          "output_type": "execute_result",
          "data": {
            "text/html": [
              "<div>\n",
              "<style scoped>\n",
              "    .dataframe tbody tr th:only-of-type {\n",
              "        vertical-align: middle;\n",
              "    }\n",
              "\n",
              "    .dataframe tbody tr th {\n",
              "        vertical-align: top;\n",
              "    }\n",
              "\n",
              "    .dataframe thead th {\n",
              "        text-align: right;\n",
              "    }\n",
              "</style>\n",
              "<table border=\"1\" class=\"dataframe\">\n",
              "  <thead>\n",
              "    <tr style=\"text-align: right;\">\n",
              "      <th></th>\n",
              "      <th>age</th>\n",
              "      <th>race</th>\n",
              "      <th>sex</th>\n",
              "      <th>income</th>\n",
              "    </tr>\n",
              "  </thead>\n",
              "  <tbody>\n",
              "    <tr>\n",
              "      <th>0</th>\n",
              "      <td>39</td>\n",
              "      <td>White</td>\n",
              "      <td>Male</td>\n",
              "      <td>&lt;=50K</td>\n",
              "    </tr>\n",
              "    <tr>\n",
              "      <th>1</th>\n",
              "      <td>50</td>\n",
              "      <td>White</td>\n",
              "      <td>Male</td>\n",
              "      <td>&lt;=50K</td>\n",
              "    </tr>\n",
              "    <tr>\n",
              "      <th>2</th>\n",
              "      <td>38</td>\n",
              "      <td>White</td>\n",
              "      <td>Male</td>\n",
              "      <td>&lt;=50K</td>\n",
              "    </tr>\n",
              "    <tr>\n",
              "      <th>3</th>\n",
              "      <td>53</td>\n",
              "      <td>Black</td>\n",
              "      <td>Male</td>\n",
              "      <td>&lt;=50K</td>\n",
              "    </tr>\n",
              "    <tr>\n",
              "      <th>4</th>\n",
              "      <td>28</td>\n",
              "      <td>Black</td>\n",
              "      <td>Female</td>\n",
              "      <td>&lt;=50K</td>\n",
              "    </tr>\n",
              "  </tbody>\n",
              "</table>\n",
              "</div>"
            ],
            "text/plain": [
              "   age    race      sex  income\n",
              "0   39   White     Male   <=50K\n",
              "1   50   White     Male   <=50K\n",
              "2   38   White     Male   <=50K\n",
              "3   53   Black     Male   <=50K\n",
              "4   28   Black   Female   <=50K"
            ]
          },
          "metadata": {
            "tags": []
          },
          "execution_count": 13
        }
      ]
    },
    {
      "cell_type": "code",
      "metadata": {
        "id": "l4znDJxxZIY9",
        "colab": {
          "base_uri": "https://localhost:8080/",
          "height": 35
        },
        "outputId": "eae00e70-a63c-4462-c050-7745ef33f57a"
      },
      "source": [
        "# filter specific rows\n",
        "workers.iloc[4, 3]"
      ],
      "execution_count": null,
      "outputs": [
        {
          "output_type": "execute_result",
          "data": {
            "application/vnd.google.colaboratory.intrinsic": {
              "type": "string"
            },
            "text/plain": [
              "' Bachelors'"
            ]
          },
          "metadata": {
            "tags": []
          },
          "execution_count": 16
        }
      ]
    },
    {
      "cell_type": "code",
      "metadata": {
        "id": "6xoriI_MZIhg",
        "colab": {
          "base_uri": "https://localhost:8080/",
          "height": 121
        },
        "outputId": "ba1c5d52-9946-4e74-fae6-9085b3d1bbbf"
      },
      "source": [
        "# frequencies of a column\n",
        "workers['native-country'].value_counts().head()"
      ],
      "execution_count": null,
      "outputs": [
        {
          "output_type": "execute_result",
          "data": {
            "text/plain": [
              " United-States    29170\n",
              " Mexico             643\n",
              " ?                  583\n",
              " Philippines        198\n",
              " Germany            137\n",
              "Name: native-country, dtype: int64"
            ]
          },
          "metadata": {
            "tags": []
          },
          "execution_count": 19
        }
      ]
    },
    {
      "cell_type": "code",
      "metadata": {
        "id": "zRH816fOZIew",
        "colab": {
          "base_uri": "https://localhost:8080/",
          "height": 391
        },
        "outputId": "a82d48ee-7105-4e58-99c8-1e2b082e0a3f"
      },
      "source": [
        "# what about missing values?\n",
        "workers[workers['native-country']==' ?'].head()"
      ],
      "execution_count": null,
      "outputs": [
        {
          "output_type": "execute_result",
          "data": {
            "text/html": [
              "<div>\n",
              "<style scoped>\n",
              "    .dataframe tbody tr th:only-of-type {\n",
              "        vertical-align: middle;\n",
              "    }\n",
              "\n",
              "    .dataframe tbody tr th {\n",
              "        vertical-align: top;\n",
              "    }\n",
              "\n",
              "    .dataframe thead th {\n",
              "        text-align: right;\n",
              "    }\n",
              "</style>\n",
              "<table border=\"1\" class=\"dataframe\">\n",
              "  <thead>\n",
              "    <tr style=\"text-align: right;\">\n",
              "      <th></th>\n",
              "      <th>age</th>\n",
              "      <th>workclass</th>\n",
              "      <th>fnlwgt</th>\n",
              "      <th>education</th>\n",
              "      <th>education-num</th>\n",
              "      <th>marital-status</th>\n",
              "      <th>occupation</th>\n",
              "      <th>relationship</th>\n",
              "      <th>race</th>\n",
              "      <th>sex</th>\n",
              "      <th>capital-gain</th>\n",
              "      <th>capital-loss</th>\n",
              "      <th>hours-per-week</th>\n",
              "      <th>native-country</th>\n",
              "      <th>income</th>\n",
              "    </tr>\n",
              "  </thead>\n",
              "  <tbody>\n",
              "    <tr>\n",
              "      <th>14</th>\n",
              "      <td>40</td>\n",
              "      <td>Private</td>\n",
              "      <td>121772</td>\n",
              "      <td>Assoc-voc</td>\n",
              "      <td>11</td>\n",
              "      <td>Married-civ-spouse</td>\n",
              "      <td>Craft-repair</td>\n",
              "      <td>Husband</td>\n",
              "      <td>Asian-Pac-Islander</td>\n",
              "      <td>Male</td>\n",
              "      <td>0</td>\n",
              "      <td>0</td>\n",
              "      <td>40</td>\n",
              "      <td>?</td>\n",
              "      <td>&gt;50K</td>\n",
              "    </tr>\n",
              "    <tr>\n",
              "      <th>38</th>\n",
              "      <td>31</td>\n",
              "      <td>Private</td>\n",
              "      <td>84154</td>\n",
              "      <td>Some-college</td>\n",
              "      <td>10</td>\n",
              "      <td>Married-civ-spouse</td>\n",
              "      <td>Sales</td>\n",
              "      <td>Husband</td>\n",
              "      <td>White</td>\n",
              "      <td>Male</td>\n",
              "      <td>0</td>\n",
              "      <td>0</td>\n",
              "      <td>38</td>\n",
              "      <td>?</td>\n",
              "      <td>&gt;50K</td>\n",
              "    </tr>\n",
              "    <tr>\n",
              "      <th>51</th>\n",
              "      <td>18</td>\n",
              "      <td>Private</td>\n",
              "      <td>226956</td>\n",
              "      <td>HS-grad</td>\n",
              "      <td>9</td>\n",
              "      <td>Never-married</td>\n",
              "      <td>Other-service</td>\n",
              "      <td>Own-child</td>\n",
              "      <td>White</td>\n",
              "      <td>Female</td>\n",
              "      <td>0</td>\n",
              "      <td>0</td>\n",
              "      <td>30</td>\n",
              "      <td>?</td>\n",
              "      <td>&lt;=50K</td>\n",
              "    </tr>\n",
              "    <tr>\n",
              "      <th>61</th>\n",
              "      <td>32</td>\n",
              "      <td>?</td>\n",
              "      <td>293936</td>\n",
              "      <td>7th-8th</td>\n",
              "      <td>4</td>\n",
              "      <td>Married-spouse-absent</td>\n",
              "      <td>?</td>\n",
              "      <td>Not-in-family</td>\n",
              "      <td>White</td>\n",
              "      <td>Male</td>\n",
              "      <td>0</td>\n",
              "      <td>0</td>\n",
              "      <td>40</td>\n",
              "      <td>?</td>\n",
              "      <td>&lt;=50K</td>\n",
              "    </tr>\n",
              "    <tr>\n",
              "      <th>93</th>\n",
              "      <td>30</td>\n",
              "      <td>Private</td>\n",
              "      <td>117747</td>\n",
              "      <td>HS-grad</td>\n",
              "      <td>9</td>\n",
              "      <td>Married-civ-spouse</td>\n",
              "      <td>Sales</td>\n",
              "      <td>Wife</td>\n",
              "      <td>Asian-Pac-Islander</td>\n",
              "      <td>Female</td>\n",
              "      <td>0</td>\n",
              "      <td>1573</td>\n",
              "      <td>35</td>\n",
              "      <td>?</td>\n",
              "      <td>&lt;=50K</td>\n",
              "    </tr>\n",
              "  </tbody>\n",
              "</table>\n",
              "</div>"
            ],
            "text/plain": [
              "    age workclass  fnlwgt  ... hours-per-week  native-country  income\n",
              "14   40   Private  121772  ...             40               ?    >50K\n",
              "38   31   Private   84154  ...             38               ?    >50K\n",
              "51   18   Private  226956  ...             30               ?   <=50K\n",
              "61   32         ?  293936  ...             40               ?   <=50K\n",
              "93   30   Private  117747  ...             35               ?   <=50K\n",
              "\n",
              "[5 rows x 15 columns]"
            ]
          },
          "metadata": {
            "tags": []
          },
          "execution_count": 20
        }
      ]
    },
    {
      "cell_type": "code",
      "metadata": {
        "id": "tOSmwGdtZIdP",
        "colab": {
          "base_uri": "https://localhost:8080/",
          "height": 294
        },
        "outputId": "cdd8c46a-abad-4137-f056-91dbdb09fe19"
      },
      "source": [
        "# check for any missing data!\n",
        "workers.isnull().sum()"
      ],
      "execution_count": null,
      "outputs": [
        {
          "output_type": "execute_result",
          "data": {
            "text/plain": [
              "age               0\n",
              "workclass         0\n",
              "fnlwgt            0\n",
              "education         0\n",
              "education-num     0\n",
              "marital-status    0\n",
              "occupation        0\n",
              "relationship      0\n",
              "race              0\n",
              "sex               0\n",
              "capital-gain      0\n",
              "capital-loss      0\n",
              "hours-per-week    0\n",
              "native-country    0\n",
              "income            0\n",
              "dtype: int64"
            ]
          },
          "metadata": {
            "tags": []
          },
          "execution_count": 21
        }
      ]
    },
    {
      "cell_type": "code",
      "metadata": {
        "id": "ActOhzpDaxBD"
      },
      "source": [
        "# recode that question mark as missing!\n",
        "import numpy as np\n",
        "workers = workers.replace(' ?', np.NaN)"
      ],
      "execution_count": null,
      "outputs": []
    },
    {
      "cell_type": "code",
      "metadata": {
        "id": "h-ben_QuaxFF",
        "colab": {
          "base_uri": "https://localhost:8080/",
          "height": 294
        },
        "outputId": "afec726d-6536-4713-ace3-cb8a892a9134"
      },
      "source": [
        "# check for any missing data!\n",
        "workers.isnull().sum()"
      ],
      "execution_count": null,
      "outputs": [
        {
          "output_type": "execute_result",
          "data": {
            "text/plain": [
              "age                  0\n",
              "workclass         1836\n",
              "fnlwgt               0\n",
              "education            0\n",
              "education-num        0\n",
              "marital-status       0\n",
              "occupation        1843\n",
              "relationship         0\n",
              "race                 0\n",
              "sex                  0\n",
              "capital-gain         0\n",
              "capital-loss         0\n",
              "hours-per-week       0\n",
              "native-country     583\n",
              "income               0\n",
              "dtype: int64"
            ]
          },
          "metadata": {
            "tags": []
          },
          "execution_count": 24
        }
      ]
    },
    {
      "cell_type": "code",
      "metadata": {
        "id": "JPg8WZ9Haw-J",
        "colab": {
          "base_uri": "https://localhost:8080/",
          "height": 52
        },
        "outputId": "2a0b98b7-e5b5-40bd-ad53-82bc8c294218"
      },
      "source": [
        "# drop all missing data!\n",
        "print(workers.shape)\n",
        "workers.dropna(inplace = True)\n",
        "print(workers.shape)"
      ],
      "execution_count": null,
      "outputs": [
        {
          "output_type": "stream",
          "text": [
            "(32561, 15)\n",
            "(30162, 15)\n"
          ],
          "name": "stdout"
        }
      ]
    },
    {
      "cell_type": "code",
      "metadata": {
        "id": "Lnx-m2PVaw7k",
        "colab": {
          "base_uri": "https://localhost:8080/",
          "height": 294
        },
        "outputId": "d972f4e1-256e-4c39-e8a8-05388fba7d56"
      },
      "source": [
        "# check for any missing data!\n",
        "workers.isnull().sum()"
      ],
      "execution_count": null,
      "outputs": [
        {
          "output_type": "execute_result",
          "data": {
            "text/plain": [
              "age               0\n",
              "workclass         0\n",
              "fnlwgt            0\n",
              "education         0\n",
              "education-num     0\n",
              "marital-status    0\n",
              "occupation        0\n",
              "relationship      0\n",
              "race              0\n",
              "sex               0\n",
              "capital-gain      0\n",
              "capital-loss      0\n",
              "hours-per-week    0\n",
              "native-country    0\n",
              "income            0\n",
              "dtype: int64"
            ]
          },
          "metadata": {
            "tags": []
          },
          "execution_count": 31
        }
      ]
    },
    {
      "cell_type": "code",
      "metadata": {
        "id": "qrFLL1zqcnjM"
      },
      "source": [
        "# create some missing data!\n",
        "workers = workers.replace(' Philippines', np.NaN)"
      ],
      "execution_count": null,
      "outputs": []
    },
    {
      "cell_type": "code",
      "metadata": {
        "id": "gnVggPkUc2ey",
        "colab": {
          "base_uri": "https://localhost:8080/",
          "height": 408
        },
        "outputId": "4dcb1542-8a5c-4209-9e9d-07ca9d88c889"
      },
      "source": [
        "workers[workers['native-country']==' Philippines'].head()"
      ],
      "execution_count": null,
      "outputs": [
        {
          "output_type": "execute_result",
          "data": {
            "text/html": [
              "<div>\n",
              "<style scoped>\n",
              "    .dataframe tbody tr th:only-of-type {\n",
              "        vertical-align: middle;\n",
              "    }\n",
              "\n",
              "    .dataframe tbody tr th {\n",
              "        vertical-align: top;\n",
              "    }\n",
              "\n",
              "    .dataframe thead th {\n",
              "        text-align: right;\n",
              "    }\n",
              "</style>\n",
              "<table border=\"1\" class=\"dataframe\">\n",
              "  <thead>\n",
              "    <tr style=\"text-align: right;\">\n",
              "      <th></th>\n",
              "      <th>age</th>\n",
              "      <th>workclass</th>\n",
              "      <th>fnlwgt</th>\n",
              "      <th>education</th>\n",
              "      <th>education-num</th>\n",
              "      <th>marital-status</th>\n",
              "      <th>occupation</th>\n",
              "      <th>relationship</th>\n",
              "      <th>race</th>\n",
              "      <th>sex</th>\n",
              "      <th>capital-gain</th>\n",
              "      <th>capital-loss</th>\n",
              "      <th>hours-per-week</th>\n",
              "      <th>native-country</th>\n",
              "      <th>income</th>\n",
              "    </tr>\n",
              "  </thead>\n",
              "  <tbody>\n",
              "    <tr>\n",
              "      <th>152</th>\n",
              "      <td>33</td>\n",
              "      <td>Private</td>\n",
              "      <td>163003</td>\n",
              "      <td>Bachelors</td>\n",
              "      <td>13</td>\n",
              "      <td>Never-married</td>\n",
              "      <td>Exec-managerial</td>\n",
              "      <td>Other-relative</td>\n",
              "      <td>Asian-Pac-Islander</td>\n",
              "      <td>Female</td>\n",
              "      <td>0</td>\n",
              "      <td>0</td>\n",
              "      <td>40</td>\n",
              "      <td>Philippines</td>\n",
              "      <td>&lt;=50K</td>\n",
              "    </tr>\n",
              "    <tr>\n",
              "      <th>434</th>\n",
              "      <td>27</td>\n",
              "      <td>Private</td>\n",
              "      <td>116358</td>\n",
              "      <td>Some-college</td>\n",
              "      <td>10</td>\n",
              "      <td>Never-married</td>\n",
              "      <td>Craft-repair</td>\n",
              "      <td>Own-child</td>\n",
              "      <td>Asian-Pac-Islander</td>\n",
              "      <td>Male</td>\n",
              "      <td>0</td>\n",
              "      <td>1980</td>\n",
              "      <td>40</td>\n",
              "      <td>Philippines</td>\n",
              "      <td>&lt;=50K</td>\n",
              "    </tr>\n",
              "    <tr>\n",
              "      <th>655</th>\n",
              "      <td>29</td>\n",
              "      <td>State-gov</td>\n",
              "      <td>71592</td>\n",
              "      <td>Some-college</td>\n",
              "      <td>10</td>\n",
              "      <td>Never-married</td>\n",
              "      <td>Adm-clerical</td>\n",
              "      <td>Unmarried</td>\n",
              "      <td>Asian-Pac-Islander</td>\n",
              "      <td>Female</td>\n",
              "      <td>0</td>\n",
              "      <td>0</td>\n",
              "      <td>40</td>\n",
              "      <td>Philippines</td>\n",
              "      <td>&lt;=50K</td>\n",
              "    </tr>\n",
              "    <tr>\n",
              "      <th>881</th>\n",
              "      <td>32</td>\n",
              "      <td>Private</td>\n",
              "      <td>270335</td>\n",
              "      <td>Bachelors</td>\n",
              "      <td>13</td>\n",
              "      <td>Married-civ-spouse</td>\n",
              "      <td>Adm-clerical</td>\n",
              "      <td>Other-relative</td>\n",
              "      <td>White</td>\n",
              "      <td>Male</td>\n",
              "      <td>0</td>\n",
              "      <td>0</td>\n",
              "      <td>40</td>\n",
              "      <td>Philippines</td>\n",
              "      <td>&gt;50K</td>\n",
              "    </tr>\n",
              "    <tr>\n",
              "      <th>1281</th>\n",
              "      <td>42</td>\n",
              "      <td>Federal-gov</td>\n",
              "      <td>158926</td>\n",
              "      <td>Assoc-acdm</td>\n",
              "      <td>12</td>\n",
              "      <td>Divorced</td>\n",
              "      <td>Prof-specialty</td>\n",
              "      <td>Unmarried</td>\n",
              "      <td>Asian-Pac-Islander</td>\n",
              "      <td>Female</td>\n",
              "      <td>0</td>\n",
              "      <td>0</td>\n",
              "      <td>40</td>\n",
              "      <td>Philippines</td>\n",
              "      <td>&gt;50K</td>\n",
              "    </tr>\n",
              "  </tbody>\n",
              "</table>\n",
              "</div>"
            ],
            "text/plain": [
              "      age     workclass  fnlwgt  ... hours-per-week  native-country  income\n",
              "152    33       Private  163003  ...             40     Philippines   <=50K\n",
              "434    27       Private  116358  ...             40     Philippines   <=50K\n",
              "655    29     State-gov   71592  ...             40     Philippines   <=50K\n",
              "881    32       Private  270335  ...             40     Philippines    >50K\n",
              "1281   42   Federal-gov  158926  ...             40     Philippines    >50K\n",
              "\n",
              "[5 rows x 15 columns]"
            ]
          },
          "metadata": {
            "tags": []
          },
          "execution_count": 33
        }
      ]
    },
    {
      "cell_type": "code",
      "metadata": {
        "id": "2Js9Hf3vdAk7",
        "colab": {
          "base_uri": "https://localhost:8080/",
          "height": 294
        },
        "outputId": "7805ef76-3782-40e1-ce60-d6e4bd55423b"
      },
      "source": [
        "# check for any missing data!\n",
        "workers.isnull().sum()"
      ],
      "execution_count": null,
      "outputs": [
        {
          "output_type": "execute_result",
          "data": {
            "text/plain": [
              "age                 0\n",
              "workclass           0\n",
              "fnlwgt              0\n",
              "education           0\n",
              "education-num       0\n",
              "marital-status      0\n",
              "occupation          0\n",
              "relationship        0\n",
              "race                0\n",
              "sex                 0\n",
              "capital-gain        0\n",
              "capital-loss        0\n",
              "hours-per-week      0\n",
              "native-country    188\n",
              "income              0\n",
              "dtype: int64"
            ]
          },
          "metadata": {
            "tags": []
          },
          "execution_count": 35
        }
      ]
    },
    {
      "cell_type": "code",
      "metadata": {
        "id": "rXH4WhZPdC5d"
      },
      "source": [
        "# replace missing values!\n",
        "workers['native-country'].fillna('Tatooine', inplace=True)"
      ],
      "execution_count": null,
      "outputs": []
    },
    {
      "cell_type": "code",
      "metadata": {
        "id": "7sfhvJWcdXoh",
        "colab": {
          "base_uri": "https://localhost:8080/",
          "height": 743
        },
        "outputId": "0a91e207-2cdb-44d6-e753-eec8bd385dfe"
      },
      "source": [
        "# value freqs\n",
        "workers['native-country'].value_counts()"
      ],
      "execution_count": null,
      "outputs": [
        {
          "output_type": "execute_result",
          "data": {
            "text/plain": [
              " United-States                 27504\n",
              " Mexico                          610\n",
              "Tatooine                         188\n",
              " Germany                         128\n",
              " Puerto-Rico                     109\n",
              " Canada                          107\n",
              " India                           100\n",
              " El-Salvador                     100\n",
              " Cuba                             92\n",
              " England                          86\n",
              " Jamaica                          80\n",
              " South                            71\n",
              " China                            68\n",
              " Italy                            68\n",
              " Dominican-Republic               67\n",
              " Vietnam                          64\n",
              " Guatemala                        63\n",
              " Japan                            59\n",
              " Poland                           56\n",
              " Columbia                         56\n",
              " Taiwan                           42\n",
              " Iran                             42\n",
              " Haiti                            42\n",
              " Portugal                         34\n",
              " Nicaragua                        33\n",
              " Peru                             30\n",
              " Greece                           29\n",
              " France                           27\n",
              " Ecuador                          27\n",
              " Ireland                          24\n",
              " Hong                             19\n",
              " Trinadad&Tobago                  18\n",
              " Cambodia                         18\n",
              " Laos                             17\n",
              " Thailand                         17\n",
              " Yugoslavia                       16\n",
              " Outlying-US(Guam-USVI-etc)       14\n",
              " Hungary                          13\n",
              " Honduras                         12\n",
              " Scotland                         11\n",
              " Holand-Netherlands                1\n",
              "Name: native-country, dtype: int64"
            ]
          },
          "metadata": {
            "tags": []
          },
          "execution_count": 37
        }
      ]
    },
    {
      "cell_type": "code",
      "metadata": {
        "id": "7MxWr0Ehaw4u",
        "colab": {
          "base_uri": "https://localhost:8080/",
          "height": 228
        },
        "outputId": "bb8fd38d-63b6-43cb-9113-a800c7f7d07d"
      },
      "source": [
        "# how to build a crosstab!\n",
        "pd.crosstab(workers['race'], workers['sex'])"
      ],
      "execution_count": null,
      "outputs": [
        {
          "output_type": "execute_result",
          "data": {
            "text/html": [
              "<div>\n",
              "<style scoped>\n",
              "    .dataframe tbody tr th:only-of-type {\n",
              "        vertical-align: middle;\n",
              "    }\n",
              "\n",
              "    .dataframe tbody tr th {\n",
              "        vertical-align: top;\n",
              "    }\n",
              "\n",
              "    .dataframe thead th {\n",
              "        text-align: right;\n",
              "    }\n",
              "</style>\n",
              "<table border=\"1\" class=\"dataframe\">\n",
              "  <thead>\n",
              "    <tr style=\"text-align: right;\">\n",
              "      <th>sex</th>\n",
              "      <th>Female</th>\n",
              "      <th>Male</th>\n",
              "    </tr>\n",
              "    <tr>\n",
              "      <th>race</th>\n",
              "      <th></th>\n",
              "      <th></th>\n",
              "    </tr>\n",
              "  </thead>\n",
              "  <tbody>\n",
              "    <tr>\n",
              "      <th>Amer-Indian-Eskimo</th>\n",
              "      <td>107</td>\n",
              "      <td>179</td>\n",
              "    </tr>\n",
              "    <tr>\n",
              "      <th>Asian-Pac-Islander</th>\n",
              "      <td>294</td>\n",
              "      <td>601</td>\n",
              "    </tr>\n",
              "    <tr>\n",
              "      <th>Black</th>\n",
              "      <td>1399</td>\n",
              "      <td>1418</td>\n",
              "    </tr>\n",
              "    <tr>\n",
              "      <th>Other</th>\n",
              "      <td>87</td>\n",
              "      <td>144</td>\n",
              "    </tr>\n",
              "    <tr>\n",
              "      <th>White</th>\n",
              "      <td>7895</td>\n",
              "      <td>18038</td>\n",
              "    </tr>\n",
              "  </tbody>\n",
              "</table>\n",
              "</div>"
            ],
            "text/plain": [
              "sex                   Female   Male\n",
              "race                               \n",
              " Amer-Indian-Eskimo      107    179\n",
              " Asian-Pac-Islander      294    601\n",
              " Black                  1399   1418\n",
              " Other                    87    144\n",
              " White                  7895  18038"
            ]
          },
          "metadata": {
            "tags": []
          },
          "execution_count": 38
        }
      ]
    },
    {
      "cell_type": "code",
      "metadata": {
        "id": "-qdOsYmXdi7X",
        "colab": {
          "base_uri": "https://localhost:8080/",
          "height": 558
        },
        "outputId": "ce1d6a2e-b157-45a4-fc9e-a23972b42997"
      },
      "source": [
        "# another example\n",
        "pd.crosstab(workers['education'], workers['workclass'])"
      ],
      "execution_count": null,
      "outputs": [
        {
          "output_type": "execute_result",
          "data": {
            "text/html": [
              "<div>\n",
              "<style scoped>\n",
              "    .dataframe tbody tr th:only-of-type {\n",
              "        vertical-align: middle;\n",
              "    }\n",
              "\n",
              "    .dataframe tbody tr th {\n",
              "        vertical-align: top;\n",
              "    }\n",
              "\n",
              "    .dataframe thead th {\n",
              "        text-align: right;\n",
              "    }\n",
              "</style>\n",
              "<table border=\"1\" class=\"dataframe\">\n",
              "  <thead>\n",
              "    <tr style=\"text-align: right;\">\n",
              "      <th>workclass</th>\n",
              "      <th>Federal-gov</th>\n",
              "      <th>Local-gov</th>\n",
              "      <th>Private</th>\n",
              "      <th>Self-emp-inc</th>\n",
              "      <th>Self-emp-not-inc</th>\n",
              "      <th>State-gov</th>\n",
              "      <th>Without-pay</th>\n",
              "    </tr>\n",
              "    <tr>\n",
              "      <th>education</th>\n",
              "      <th></th>\n",
              "      <th></th>\n",
              "      <th></th>\n",
              "      <th></th>\n",
              "      <th></th>\n",
              "      <th></th>\n",
              "      <th></th>\n",
              "    </tr>\n",
              "  </thead>\n",
              "  <tbody>\n",
              "    <tr>\n",
              "      <th>10th</th>\n",
              "      <td>6</td>\n",
              "      <td>31</td>\n",
              "      <td>686</td>\n",
              "      <td>19</td>\n",
              "      <td>65</td>\n",
              "      <td>13</td>\n",
              "      <td>0</td>\n",
              "    </tr>\n",
              "    <tr>\n",
              "      <th>11th</th>\n",
              "      <td>9</td>\n",
              "      <td>36</td>\n",
              "      <td>917</td>\n",
              "      <td>13</td>\n",
              "      <td>59</td>\n",
              "      <td>14</td>\n",
              "      <td>0</td>\n",
              "    </tr>\n",
              "    <tr>\n",
              "      <th>12th</th>\n",
              "      <td>5</td>\n",
              "      <td>19</td>\n",
              "      <td>319</td>\n",
              "      <td>6</td>\n",
              "      <td>18</td>\n",
              "      <td>10</td>\n",
              "      <td>0</td>\n",
              "    </tr>\n",
              "    <tr>\n",
              "      <th>1st-4th</th>\n",
              "      <td>0</td>\n",
              "      <td>4</td>\n",
              "      <td>133</td>\n",
              "      <td>1</td>\n",
              "      <td>12</td>\n",
              "      <td>1</td>\n",
              "      <td>0</td>\n",
              "    </tr>\n",
              "    <tr>\n",
              "      <th>5th-6th</th>\n",
              "      <td>1</td>\n",
              "      <td>8</td>\n",
              "      <td>253</td>\n",
              "      <td>3</td>\n",
              "      <td>19</td>\n",
              "      <td>4</td>\n",
              "      <td>0</td>\n",
              "    </tr>\n",
              "    <tr>\n",
              "      <th>7th-8th</th>\n",
              "      <td>2</td>\n",
              "      <td>27</td>\n",
              "      <td>414</td>\n",
              "      <td>10</td>\n",
              "      <td>93</td>\n",
              "      <td>10</td>\n",
              "      <td>1</td>\n",
              "    </tr>\n",
              "    <tr>\n",
              "      <th>9th</th>\n",
              "      <td>3</td>\n",
              "      <td>23</td>\n",
              "      <td>380</td>\n",
              "      <td>9</td>\n",
              "      <td>34</td>\n",
              "      <td>6</td>\n",
              "      <td>0</td>\n",
              "    </tr>\n",
              "    <tr>\n",
              "      <th>Assoc-acdm</th>\n",
              "      <td>55</td>\n",
              "      <td>86</td>\n",
              "      <td>720</td>\n",
              "      <td>35</td>\n",
              "      <td>70</td>\n",
              "      <td>41</td>\n",
              "      <td>1</td>\n",
              "    </tr>\n",
              "    <tr>\n",
              "      <th>Assoc-voc</th>\n",
              "      <td>38</td>\n",
              "      <td>85</td>\n",
              "      <td>993</td>\n",
              "      <td>37</td>\n",
              "      <td>108</td>\n",
              "      <td>46</td>\n",
              "      <td>0</td>\n",
              "    </tr>\n",
              "    <tr>\n",
              "      <th>Bachelors</th>\n",
              "      <td>207</td>\n",
              "      <td>470</td>\n",
              "      <td>3455</td>\n",
              "      <td>259</td>\n",
              "      <td>387</td>\n",
              "      <td>266</td>\n",
              "      <td>0</td>\n",
              "    </tr>\n",
              "    <tr>\n",
              "      <th>Doctorate</th>\n",
              "      <td>15</td>\n",
              "      <td>26</td>\n",
              "      <td>172</td>\n",
              "      <td>33</td>\n",
              "      <td>46</td>\n",
              "      <td>83</td>\n",
              "      <td>0</td>\n",
              "    </tr>\n",
              "    <tr>\n",
              "      <th>HS-grad</th>\n",
              "      <td>260</td>\n",
              "      <td>498</td>\n",
              "      <td>7678</td>\n",
              "      <td>270</td>\n",
              "      <td>857</td>\n",
              "      <td>268</td>\n",
              "      <td>9</td>\n",
              "    </tr>\n",
              "    <tr>\n",
              "      <th>Masters</th>\n",
              "      <td>65</td>\n",
              "      <td>336</td>\n",
              "      <td>863</td>\n",
              "      <td>77</td>\n",
              "      <td>120</td>\n",
              "      <td>166</td>\n",
              "      <td>0</td>\n",
              "    </tr>\n",
              "    <tr>\n",
              "      <th>Preschool</th>\n",
              "      <td>0</td>\n",
              "      <td>4</td>\n",
              "      <td>40</td>\n",
              "      <td>0</td>\n",
              "      <td>0</td>\n",
              "      <td>1</td>\n",
              "      <td>0</td>\n",
              "    </tr>\n",
              "    <tr>\n",
              "      <th>Prof-school</th>\n",
              "      <td>26</td>\n",
              "      <td>29</td>\n",
              "      <td>247</td>\n",
              "      <td>79</td>\n",
              "      <td>130</td>\n",
              "      <td>31</td>\n",
              "      <td>0</td>\n",
              "    </tr>\n",
              "    <tr>\n",
              "      <th>Some-college</th>\n",
              "      <td>251</td>\n",
              "      <td>385</td>\n",
              "      <td>5016</td>\n",
              "      <td>223</td>\n",
              "      <td>481</td>\n",
              "      <td>319</td>\n",
              "      <td>3</td>\n",
              "    </tr>\n",
              "  </tbody>\n",
              "</table>\n",
              "</div>"
            ],
            "text/plain": [
              "workclass       Federal-gov   Local-gov  ...   State-gov   Without-pay\n",
              "education                                ...                          \n",
              " 10th                     6          31  ...          13             0\n",
              " 11th                     9          36  ...          14             0\n",
              " 12th                     5          19  ...          10             0\n",
              " 1st-4th                  0           4  ...           1             0\n",
              " 5th-6th                  1           8  ...           4             0\n",
              " 7th-8th                  2          27  ...          10             1\n",
              " 9th                      3          23  ...           6             0\n",
              " Assoc-acdm              55          86  ...          41             1\n",
              " Assoc-voc               38          85  ...          46             0\n",
              " Bachelors              207         470  ...         266             0\n",
              " Doctorate               15          26  ...          83             0\n",
              " HS-grad                260         498  ...         268             9\n",
              " Masters                 65         336  ...         166             0\n",
              " Preschool                0           4  ...           1             0\n",
              " Prof-school             26          29  ...          31             0\n",
              " Some-college           251         385  ...         319             3\n",
              "\n",
              "[16 rows x 7 columns]"
            ]
          },
          "metadata": {
            "tags": []
          },
          "execution_count": 39
        }
      ]
    },
    {
      "cell_type": "code",
      "metadata": {
        "id": "jubjqjIrdjBy",
        "colab": {
          "base_uri": "https://localhost:8080/",
          "height": 228
        },
        "outputId": "4d083905-5717-4c4a-a9c9-626fc3686865"
      },
      "source": [
        "# what if you want pcts?\n",
        "pd.crosstab(workers['race'], workers['sex'], normalize=True)"
      ],
      "execution_count": null,
      "outputs": [
        {
          "output_type": "execute_result",
          "data": {
            "text/html": [
              "<div>\n",
              "<style scoped>\n",
              "    .dataframe tbody tr th:only-of-type {\n",
              "        vertical-align: middle;\n",
              "    }\n",
              "\n",
              "    .dataframe tbody tr th {\n",
              "        vertical-align: top;\n",
              "    }\n",
              "\n",
              "    .dataframe thead th {\n",
              "        text-align: right;\n",
              "    }\n",
              "</style>\n",
              "<table border=\"1\" class=\"dataframe\">\n",
              "  <thead>\n",
              "    <tr style=\"text-align: right;\">\n",
              "      <th>sex</th>\n",
              "      <th>Female</th>\n",
              "      <th>Male</th>\n",
              "    </tr>\n",
              "    <tr>\n",
              "      <th>race</th>\n",
              "      <th></th>\n",
              "      <th></th>\n",
              "    </tr>\n",
              "  </thead>\n",
              "  <tbody>\n",
              "    <tr>\n",
              "      <th>Amer-Indian-Eskimo</th>\n",
              "      <td>0.003548</td>\n",
              "      <td>0.005935</td>\n",
              "    </tr>\n",
              "    <tr>\n",
              "      <th>Asian-Pac-Islander</th>\n",
              "      <td>0.009747</td>\n",
              "      <td>0.019926</td>\n",
              "    </tr>\n",
              "    <tr>\n",
              "      <th>Black</th>\n",
              "      <td>0.046383</td>\n",
              "      <td>0.047013</td>\n",
              "    </tr>\n",
              "    <tr>\n",
              "      <th>Other</th>\n",
              "      <td>0.002884</td>\n",
              "      <td>0.004774</td>\n",
              "    </tr>\n",
              "    <tr>\n",
              "      <th>White</th>\n",
              "      <td>0.261753</td>\n",
              "      <td>0.598037</td>\n",
              "    </tr>\n",
              "  </tbody>\n",
              "</table>\n",
              "</div>"
            ],
            "text/plain": [
              "sex                    Female      Male\n",
              "race                                   \n",
              " Amer-Indian-Eskimo  0.003548  0.005935\n",
              " Asian-Pac-Islander  0.009747  0.019926\n",
              " Black               0.046383  0.047013\n",
              " Other               0.002884  0.004774\n",
              " White               0.261753  0.598037"
            ]
          },
          "metadata": {
            "tags": []
          },
          "execution_count": 40
        }
      ]
    },
    {
      "cell_type": "code",
      "metadata": {
        "id": "wike7M1Xdi_P",
        "colab": {
          "base_uri": "https://localhost:8080/",
          "height": 258
        },
        "outputId": "eaacafa8-bd02-47bc-ae4f-b049840d40a4"
      },
      "source": [
        "# what if you want margins?\n",
        "pd.crosstab(workers['race'], workers['sex'], margins=True)"
      ],
      "execution_count": null,
      "outputs": [
        {
          "output_type": "execute_result",
          "data": {
            "text/html": [
              "<div>\n",
              "<style scoped>\n",
              "    .dataframe tbody tr th:only-of-type {\n",
              "        vertical-align: middle;\n",
              "    }\n",
              "\n",
              "    .dataframe tbody tr th {\n",
              "        vertical-align: top;\n",
              "    }\n",
              "\n",
              "    .dataframe thead th {\n",
              "        text-align: right;\n",
              "    }\n",
              "</style>\n",
              "<table border=\"1\" class=\"dataframe\">\n",
              "  <thead>\n",
              "    <tr style=\"text-align: right;\">\n",
              "      <th>sex</th>\n",
              "      <th>Female</th>\n",
              "      <th>Male</th>\n",
              "      <th>All</th>\n",
              "    </tr>\n",
              "    <tr>\n",
              "      <th>race</th>\n",
              "      <th></th>\n",
              "      <th></th>\n",
              "      <th></th>\n",
              "    </tr>\n",
              "  </thead>\n",
              "  <tbody>\n",
              "    <tr>\n",
              "      <th>Amer-Indian-Eskimo</th>\n",
              "      <td>107</td>\n",
              "      <td>179</td>\n",
              "      <td>286</td>\n",
              "    </tr>\n",
              "    <tr>\n",
              "      <th>Asian-Pac-Islander</th>\n",
              "      <td>294</td>\n",
              "      <td>601</td>\n",
              "      <td>895</td>\n",
              "    </tr>\n",
              "    <tr>\n",
              "      <th>Black</th>\n",
              "      <td>1399</td>\n",
              "      <td>1418</td>\n",
              "      <td>2817</td>\n",
              "    </tr>\n",
              "    <tr>\n",
              "      <th>Other</th>\n",
              "      <td>87</td>\n",
              "      <td>144</td>\n",
              "      <td>231</td>\n",
              "    </tr>\n",
              "    <tr>\n",
              "      <th>White</th>\n",
              "      <td>7895</td>\n",
              "      <td>18038</td>\n",
              "      <td>25933</td>\n",
              "    </tr>\n",
              "    <tr>\n",
              "      <th>All</th>\n",
              "      <td>9782</td>\n",
              "      <td>20380</td>\n",
              "      <td>30162</td>\n",
              "    </tr>\n",
              "  </tbody>\n",
              "</table>\n",
              "</div>"
            ],
            "text/plain": [
              "sex                   Female   Male    All\n",
              "race                                      \n",
              " Amer-Indian-Eskimo      107    179    286\n",
              " Asian-Pac-Islander      294    601    895\n",
              " Black                  1399   1418   2817\n",
              " Other                    87    144    231\n",
              " White                  7895  18038  25933\n",
              "All                     9782  20380  30162"
            ]
          },
          "metadata": {
            "tags": []
          },
          "execution_count": 41
        }
      ]
    },
    {
      "cell_type": "code",
      "metadata": {
        "id": "crT-h5OlZIXS"
      },
      "source": [
        ""
      ],
      "execution_count": null,
      "outputs": []
    },
    {
      "cell_type": "markdown",
      "metadata": {
        "id": "9zx_C0SKsNU7"
      },
      "source": [
        "## Challenge\n",
        "\n",
        "Hopefully a lot of the above functions are review for you from the precourse material, but if not, again, don't worry. We'll be using these again on the assignment and most days of class -whenever we need to wrap our head around a new dataset."
      ]
    },
    {
      "cell_type": "markdown",
      "metadata": {
        "id": "9pQ5XKZMPA4b"
      },
      "source": [
        "# [Objective](#pandas-visualizations) Generate Basic Visualizations (graphs) with Pandas"
      ]
    },
    {
      "cell_type": "markdown",
      "metadata": {
        "id": "mUdn5YhXqe3m"
      },
      "source": [
        "## Overview\n",
        "\n",
        "One of the cornerstones of Exploratory Data Analysis (EDA) is visualizing our data in order to understand their distributions and how they're interrelated. Our brains are amazing pattern detection machines and sometimes the \"eyeball test\" is the most efficient one. In this section we'll look at some of the most basic kinds of \"exploratory visualizations\" to help us better understand our data."
      ]
    },
    {
      "cell_type": "markdown",
      "metadata": {
        "id": "CE1OpSBpljcU"
      },
      "source": [
        "## Follow Along\n",
        "\n",
        "Lets demonstrate creating a:\n",
        "\n",
        "- Line Plot\n",
        "- Histogram\n",
        "- Scatter Plot\n",
        "- Density Plot\n",
        "- Making plots of our crosstabs\n",
        "\n",
        "How does each of these plots show us something different about the data? \n",
        "\n",
        "Why might it be important for us to be able to visualize how our data is distributed?"
      ]
    },
    {
      "cell_type": "markdown",
      "metadata": {
        "id": "-cPyM8eLlIQB"
      },
      "source": [
        "### Line Plot"
      ]
    },
    {
      "cell_type": "code",
      "metadata": {
        "id": "vGXfTAyJlU4J",
        "colab": {
          "base_uri": "https://localhost:8080/",
          "height": 225
        },
        "outputId": "a8cd8f6d-27bd-4c8d-d6e8-1d80091f682c"
      },
      "source": [
        "# freqs\n",
        "workers['age'].value_counts().sort_index()"
      ],
      "execution_count": null,
      "outputs": [
        {
          "output_type": "execute_result",
          "data": {
            "text/plain": [
              "17    328\n",
              "18    447\n",
              "19    594\n",
              "20    629\n",
              "21    621\n",
              "     ... \n",
              "84      8\n",
              "85      3\n",
              "86      1\n",
              "88      3\n",
              "90     35\n",
              "Name: age, Length: 72, dtype: int64"
            ]
          },
          "metadata": {
            "tags": []
          },
          "execution_count": 43
        }
      ]
    },
    {
      "cell_type": "code",
      "metadata": {
        "id": "9FxhqPvLekhM",
        "colab": {
          "base_uri": "https://localhost:8080/",
          "height": 265
        },
        "outputId": "9b2bc7eb-c885-4749-e2f7-b7465d9b8d35"
      },
      "source": [
        "# show that in a plot\n",
        "workers['age'].value_counts().sort_index().plot();"
      ],
      "execution_count": null,
      "outputs": [
        {
          "output_type": "display_data",
          "data": {
            "image/png": "[encoded data removed]",
            "text/plain": [
              "<Figure size 432x288 with 1 Axes>"
            ]
          },
          "metadata": {
            "tags": [],
            "needs_background": "light"
          }
        }
      ]
    },
    {
      "cell_type": "markdown",
      "metadata": {
        "id": "MvT2W_HulJuR"
      },
      "source": [
        "### Histogram"
      ]
    },
    {
      "cell_type": "code",
      "metadata": {
        "id": "GJg_yWrMlVRs",
        "colab": {
          "base_uri": "https://localhost:8080/",
          "height": 265
        },
        "outputId": "4322cadc-93cc-4458-dfc6-8be36b0df47a"
      },
      "source": [
        "# default has 10 bins\n",
        "workers['age'].hist();"
      ],
      "execution_count": null,
      "outputs": [
        {
          "output_type": "display_data",
          "data": {
            "image/png": "[encoded data removed]",
            "text/plain": [
              "<Figure size 432x288 with 1 Axes>"
            ]
          },
          "metadata": {
            "tags": [],
            "needs_background": "light"
          }
        }
      ]
    },
    {
      "cell_type": "code",
      "metadata": {
        "id": "Sv9OlbvdfA6N",
        "colab": {
          "base_uri": "https://localhost:8080/",
          "height": 265
        },
        "outputId": "c6550c91-2668-4c9f-a7e7-1f91373be8f0"
      },
      "source": [
        "# add more bins\n",
        "workers['age'].hist(bins=72);"
      ],
      "execution_count": null,
      "outputs": [
        {
          "output_type": "display_data",
          "data": {
            "image/png": "[encoded data removed]",
            "text/plain": [
              "<Figure size 432x288 with 1 Axes>"
            ]
          },
          "metadata": {
            "tags": [],
            "needs_background": "light"
          }
        }
      ]
    },
    {
      "cell_type": "markdown",
      "metadata": {
        "id": "P67iVO7ulK5J"
      },
      "source": [
        "### Scatter Plot\n"
      ]
    },
    {
      "cell_type": "code",
      "metadata": {
        "id": "Tz9J6YqnlV0j",
        "colab": {
          "base_uri": "https://localhost:8080/",
          "height": 198
        },
        "outputId": "0357b0ca-7f78-4721-f905-b900713b61ea"
      },
      "source": [
        "workers[['capital-gain', 'hours-per-week']].sample(5)"
      ],
      "execution_count": null,
      "outputs": [
        {
          "output_type": "execute_result",
          "data": {
            "text/html": [
              "<div>\n",
              "<style scoped>\n",
              "    .dataframe tbody tr th:only-of-type {\n",
              "        vertical-align: middle;\n",
              "    }\n",
              "\n",
              "    .dataframe tbody tr th {\n",
              "        vertical-align: top;\n",
              "    }\n",
              "\n",
              "    .dataframe thead th {\n",
              "        text-align: right;\n",
              "    }\n",
              "</style>\n",
              "<table border=\"1\" class=\"dataframe\">\n",
              "  <thead>\n",
              "    <tr style=\"text-align: right;\">\n",
              "      <th></th>\n",
              "      <th>capital-gain</th>\n",
              "      <th>hours-per-week</th>\n",
              "    </tr>\n",
              "  </thead>\n",
              "  <tbody>\n",
              "    <tr>\n",
              "      <th>22843</th>\n",
              "      <td>0</td>\n",
              "      <td>40</td>\n",
              "    </tr>\n",
              "    <tr>\n",
              "      <th>28530</th>\n",
              "      <td>0</td>\n",
              "      <td>40</td>\n",
              "    </tr>\n",
              "    <tr>\n",
              "      <th>20483</th>\n",
              "      <td>0</td>\n",
              "      <td>40</td>\n",
              "    </tr>\n",
              "    <tr>\n",
              "      <th>24348</th>\n",
              "      <td>0</td>\n",
              "      <td>40</td>\n",
              "    </tr>\n",
              "    <tr>\n",
              "      <th>25632</th>\n",
              "      <td>3103</td>\n",
              "      <td>40</td>\n",
              "    </tr>\n",
              "  </tbody>\n",
              "</table>\n",
              "</div>"
            ],
            "text/plain": [
              "       capital-gain  hours-per-week\n",
              "22843             0              40\n",
              "28530             0              40\n",
              "20483             0              40\n",
              "24348             0              40\n",
              "25632          3103              40"
            ]
          },
          "metadata": {
            "tags": []
          },
          "execution_count": 49
        }
      ]
    },
    {
      "cell_type": "code",
      "metadata": {
        "id": "8RBs2dOffYqB",
        "colab": {
          "base_uri": "https://localhost:8080/",
          "height": 279
        },
        "outputId": "4869ed78-5bc9-49ee-f4ef-d5329934ddcd"
      },
      "source": [
        "# combine these numeric variables in a scatter plot!\n",
        "workers.plot.scatter('capital-gain', 'hours-per-week');"
      ],
      "execution_count": null,
      "outputs": [
        {
          "output_type": "display_data",
          "data": {
            "image/png": "[encoded data removed]",
            "text/plain": [
              "<Figure size 432x288 with 1 Axes>"
            ]
          },
          "metadata": {
            "tags": [],
            "needs_background": "light"
          }
        }
      ]
    },
    {
      "cell_type": "code",
      "metadata": {
        "id": "UFJN-WY5fk_E",
        "colab": {
          "base_uri": "https://localhost:8080/",
          "height": 52
        },
        "outputId": "8b115204-888d-4254-ffa5-834a548ddd10"
      },
      "source": [
        "# let's get rid of outliers!\n",
        "print(workers.shape)\n",
        "workers = workers[workers['capital-gain'] < 60000]\n",
        "print(workers.shape)"
      ],
      "execution_count": null,
      "outputs": [
        {
          "output_type": "stream",
          "text": [
            "(30162, 15)\n",
            "(30014, 15)\n"
          ],
          "name": "stdout"
        }
      ]
    },
    {
      "cell_type": "code",
      "metadata": {
        "id": "xLcMUUv2fxL1",
        "colab": {
          "base_uri": "https://localhost:8080/",
          "height": 279
        },
        "outputId": "a1cdb658-4a08-4f80-cb48-77f22b57d058"
      },
      "source": [
        "# combine these numeric variables in a scatter plot!\n",
        "workers.plot.scatter('capital-gain', 'hours-per-week');"
      ],
      "execution_count": null,
      "outputs": [
        {
          "output_type": "display_data",
          "data": {
            "image/png": "[encoded data removed]",
            "text/plain": [
              "<Figure size 432x288 with 1 Axes>"
            ]
          },
          "metadata": {
            "tags": [],
            "needs_background": "light"
          }
        }
      ]
    },
    {
      "cell_type": "markdown",
      "metadata": {
        "id": "O5Q6uv49lOOZ"
      },
      "source": [
        "### Density Plot - Kernel Density Estimate (KDE)"
      ]
    },
    {
      "cell_type": "code",
      "metadata": {
        "id": "MBpB3NqjlWc8",
        "colab": {
          "base_uri": "https://localhost:8080/",
          "height": 265
        },
        "outputId": "422c46f2-ae77-417f-d01b-7b23de115de0"
      },
      "source": [
        "# similar to histogram\n",
        "workers['age'].plot.density();"
      ],
      "execution_count": null,
      "outputs": [
        {
          "output_type": "display_data",
          "data": {
            "image/png": "[encoded data removed]",
            "text/plain": [
              "<Figure size 432x288 with 1 Axes>"
            ]
          },
          "metadata": {
            "tags": [],
            "needs_background": "light"
          }
        }
      ]
    },
    {
      "cell_type": "markdown",
      "metadata": {
        "id": "1vwTB_8ZlQHl"
      },
      "source": [
        "### Plotting using Crosstabs"
      ]
    },
    {
      "cell_type": "code",
      "metadata": {
        "id": "agnXxQNrlXFC",
        "colab": {
          "base_uri": "https://localhost:8080/",
          "height": 138
        },
        "outputId": "5d11e64f-fbb9-425a-d14e-386615ce67a8"
      },
      "source": [
        "# crosstabs code\n",
        "xtabs = pd.crosstab(workers['sex'], workers['race'])\n",
        "xtabs"
      ],
      "execution_count": null,
      "outputs": [
        {
          "output_type": "execute_result",
          "data": {
            "text/html": [
              "<div>\n",
              "<style scoped>\n",
              "    .dataframe tbody tr th:only-of-type {\n",
              "        vertical-align: middle;\n",
              "    }\n",
              "\n",
              "    .dataframe tbody tr th {\n",
              "        vertical-align: top;\n",
              "    }\n",
              "\n",
              "    .dataframe thead th {\n",
              "        text-align: right;\n",
              "    }\n",
              "</style>\n",
              "<table border=\"1\" class=\"dataframe\">\n",
              "  <thead>\n",
              "    <tr style=\"text-align: right;\">\n",
              "      <th>race</th>\n",
              "      <th>Amer-Indian-Eskimo</th>\n",
              "      <th>Asian-Pac-Islander</th>\n",
              "      <th>Black</th>\n",
              "      <th>Other</th>\n",
              "      <th>White</th>\n",
              "    </tr>\n",
              "    <tr>\n",
              "      <th>sex</th>\n",
              "      <th></th>\n",
              "      <th></th>\n",
              "      <th></th>\n",
              "      <th></th>\n",
              "      <th></th>\n",
              "    </tr>\n",
              "  </thead>\n",
              "  <tbody>\n",
              "    <tr>\n",
              "      <th>Female</th>\n",
              "      <td>107</td>\n",
              "      <td>293</td>\n",
              "      <td>1396</td>\n",
              "      <td>87</td>\n",
              "      <td>7879</td>\n",
              "    </tr>\n",
              "    <tr>\n",
              "      <th>Male</th>\n",
              "      <td>179</td>\n",
              "      <td>595</td>\n",
              "      <td>1415</td>\n",
              "      <td>142</td>\n",
              "      <td>17921</td>\n",
              "    </tr>\n",
              "  </tbody>\n",
              "</table>\n",
              "</div>"
            ],
            "text/plain": [
              "race      Amer-Indian-Eskimo   Asian-Pac-Islander   Black   Other   White\n",
              "sex                                                                      \n",
              " Female                  107                  293    1396      87    7879\n",
              " Male                    179                  595    1415     142   17921"
            ]
          },
          "metadata": {
            "tags": []
          },
          "execution_count": 55
        }
      ]
    },
    {
      "cell_type": "code",
      "metadata": {
        "id": "mZy5pa8FgEKB",
        "colab": {
          "base_uri": "https://localhost:8080/",
          "height": 309
        },
        "outputId": "9a58766c-2d4a-41e9-8826-5dfb15ed48d4"
      },
      "source": [
        "# show using a bar chart\n",
        "xtabs.plot(kind = 'bar');"
      ],
      "execution_count": null,
      "outputs": [
        {
          "output_type": "display_data",
          "data": {
            "image/png": "[encoded data removed]",
            "text/plain": [
              "<Figure size 432x288 with 1 Axes>"
            ]
          },
          "metadata": {
            "tags": [],
            "needs_background": "light"
          }
        }
      ]
    },
    {
      "cell_type": "markdown",
      "metadata": {
        "id": "y2qBPH-Wsiar"
      },
      "source": [
        "## Challenge\n",
        "\n",
        "These are some of the most basic and important types of data visualizations. They're so important that they're built straight into Pandas and can be accessed with some very concise code. At the beginning our data exploration is about understanding the characteristics of our dataset, but over time it becomes about communicating insights in as effective and digestable a manner as possible, and that typically means using graphs in one way or another. See how intuitive of a graph you can make using a crosstab on this dataset."
      ]
    },
    {
      "cell_type": "markdown",
      "metadata": {
        "id": "trZtxlPtASwI"
      },
      "source": [
        "# Review\n",
        "\n",
        "Whew, that was a lot. Again, if this content seems overwhelming, remember that this won't be the last time that we'll talk about the skills contained in this lesson. They're right at the beginning of the course because we'll use these skills nearly every day, so you'll get really good at these things in no time!\n",
        "\n",
        "You know when you're learning a new board game and somebody tries to explain the rules to you and it doesn't make very much sense? My friends always end up saying something like: \"It sounds more complicated then it really is, lets just play a round and you'll get it.\" \n",
        "\n",
        "That's the same message that I have for you. There's a lot of new things here at Lambda School in the first week:\n",
        "\n",
        "- New Course\n",
        "- New Schedule\n",
        "- New Community\n",
        "- New Tools\n",
        "- New Processes\n",
        "- New Content\n",
        "\n",
        "As we go through a cycle of one sprint, it will all start making a whole lot more sense. \n",
        "\n",
        "---\n",
        "\n",
        "Your assignment for this afternoon can be found in the -other- notebook inside the module folder in this week's repository on GitHub. You are going to pick another [UCI Machine Learning Repository](https://archive.ics.uci.edu/ml/index.php) dataset and do much of the same as what we have done above.\n",
        "\n",
        "In order to start out with something that won't be impossibly hard, please use one of the datasets that is listed as \"Most Popular\" on the right side of the UCI website.\n",
        "\n",
        "Why am I **not** assigning a specific dataset to you for your assignment? As a baby step in getting you more comfortable with open-endedness. Traditional education has been training you to expect there to be a single correct solution to things -that's rarely the case in data science. There are pros and cons to every decision that we make. Over the course of the first unit, we will work on helping you be comfortable open-endedness as we navigate the sea of tradeoffs that exist when we approach data. and you choosing the dataset for your assignment is the first tiny step that we're going to take in that direction. \n",
        "\n",
        "Assignment Notebook:\n",
        "\n"
      ]
    }
  ]
}